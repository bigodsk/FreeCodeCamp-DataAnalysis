{
 "cells": [
  {
   "cell_type": "markdown",
   "id": "1da42cc7-aac4-4259-8a5f-00ad00215c5f",
   "metadata": {},
   "source": [
    "# The Sakila Database\n",
    "One of the best example databases out there is the <a href=\\\"https://dev.mysql.com/doc/sakila/en/\\\">Sakila Database</a>, which was originally created by MySQL and has been open sourced under the terms of the BSD License.\n",
    "The Sakila database is a nicely normalised schema modelling a DVD rental store, featuring things like films, actors, film-actor relationships, and a central inventory table that connects films, stores, and rentals.\n",
    "<img width=\\\"1200px\\\" src=\\\"https://user-images.githubusercontent.com/7065401/58504872-fa243b00-8161-11e9-85ed-4b7d8d7ce9f7.png\\\" />"
   ]
  },
  {
   "cell_type": "code",
   "execution_count": null,
   "id": "eea9deba-fae4-4025-83c5-a1298c1ba699",
   "metadata": {},
   "outputs": [],
   "source": []
  }
 ],
 "metadata": {
  "kernelspec": {
   "display_name": "Python 3 (ipykernel)",
   "language": "python",
   "name": "python3"
  },
  "language_info": {
   "codemirror_mode": {
    "name": "ipython",
    "version": 3
   },
   "file_extension": ".py",
   "mimetype": "text/x-python",
   "name": "python",
   "nbconvert_exporter": "python",
   "pygments_lexer": "ipython3",
   "version": "3.10.5"
  }
 },
 "nbformat": 4,
 "nbformat_minor": 5
}
